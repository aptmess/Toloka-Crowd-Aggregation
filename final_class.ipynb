{
 "cells": [
  {
   "cell_type": "code",
   "execution_count": 12,
   "metadata": {
    "slideshow": {
     "slide_type": "skip"
    }
   },
   "outputs": [
    {
     "name": "stdout",
     "output_type": "stream",
     "text": [
      "The autoreload extension is already loaded. To reload it, use:\n",
      "  %reload_ext autoreload\n"
     ]
    }
   ],
   "source": [
    "import pandas as pd\n",
    "import numpy as np\n",
    "import matplotlib.pyplot as plt\n",
    "import scipy.sparse as sprse\n",
    "from sklearn.metrics import accuracy_score\n",
    "from traitlets.config.manager import BaseJSONConfigManager\n",
    "cm = BaseJSONConfigManager()\n",
    "cm.update('livereveal', {\n",
    "    'theme': 'sky',\n",
    "    'transition': 'zoom',\n",
    "    'start_slideshow_at': 'selected',\n",
    "    'scroll': True\n",
    "})\n",
    "from final_class_ import AggregationMethods as AM\n",
    "%load_ext autoreload\n",
    "%autoreload 2"
   ]
  },
  {
   "cell_type": "markdown",
   "metadata": {
    "slideshow": {
     "slide_type": "slide"
    }
   },
   "source": [
    "# <font color='black'> Методы и алгоритмы агрегации оценок исполнителей на краудсорсинговой платформе Toloka </font>\n",
    "\n",
    "# <font color='black'> Александр Широков </font>\n",
    "\n"
   ]
  },
  {
   "cell_type": "markdown",
   "metadata": {
    "slideshow": {
     "slide_type": "slide"
    }
   },
   "source": [
    "## [Toloka](https://toloka.yandex.ru/)\n",
    "\n",
    "`Толока` — крупнейший источник размеченных людьми данных для задач машинного обучения. \n",
    "\n",
    "Для любых исследований и экспериментов, связанных с машинным обучением, необходимы большие объёмы качественных данных.\n",
    "\n",
    "Раньше многие компании собирали такие оценки исключительно с помощью специально обученных сотрудников — асессоров. Но со временем задач в области машинного обучения стало слишком много, а сами задачи в массе своей перестали требовать особых знаний и опыта. Так появился спрос на помощь «толпы» (crowd). Но самостоятельно найти большое количество случайных исполнителей и работать с ними не каждому под силу. Краудсорсинговые платформы решают эту проблему.\n",
    "\n",
    "Аналог `Amazon Mechanical Turk`."
   ]
  },
  {
   "cell_type": "markdown",
   "metadata": {
    "slideshow": {
     "slide_type": "slide"
    }
   },
   "source": [
    "## [Toloka Aggregation Relevance 2](https://toloka.ai/ru/datasets?turbo=true)\n",
    "\n",
    "Исполнителю предлагался запрос и регион пользователя, который его задавал, скриншот документа и ссылка на него, возможность воспользоваться поисковыми системами и варианты ответов: \n",
    "\n",
    "Переформулировать\n",
    "\n",
    "- `Релевантен` - **1**\n",
    "- `Нерелевантен` - **0**\n",
    "- Не отображается (не записывалось в датасет (набор данных))\n",
    "\n",
    "[*Статья с Хабра*](https://habr.com/en/company/yandex/blog/458326/)"
   ]
  },
  {
   "cell_type": "code",
   "execution_count": 13,
   "metadata": {
    "slideshow": {
     "slide_type": "fragment"
    }
   },
   "outputs": [
    {
     "data": {
      "text/html": [
       "<div>\n",
       "<style scoped>\n",
       "    .dataframe tbody tr th:only-of-type {\n",
       "        vertical-align: middle;\n",
       "    }\n",
       "\n",
       "    .dataframe tbody tr th {\n",
       "        vertical-align: top;\n",
       "    }\n",
       "\n",
       "    .dataframe thead th {\n",
       "        text-align: right;\n",
       "    }\n",
       "</style>\n",
       "<table border=\"1\" class=\"dataframe\">\n",
       "  <thead>\n",
       "    <tr style=\"text-align: right;\">\n",
       "      <th></th>\n",
       "      <th>worker_id</th>\n",
       "      <th>task_id</th>\n",
       "      <th>label</th>\n",
       "    </tr>\n",
       "  </thead>\n",
       "  <tbody>\n",
       "    <tr>\n",
       "      <th>0</th>\n",
       "      <td>w851</td>\n",
       "      <td>t30685</td>\n",
       "      <td>1</td>\n",
       "    </tr>\n",
       "    <tr>\n",
       "      <th>1</th>\n",
       "      <td>w6991</td>\n",
       "      <td>t30008</td>\n",
       "      <td>0</td>\n",
       "    </tr>\n",
       "    <tr>\n",
       "      <th>2</th>\n",
       "      <td>w2596</td>\n",
       "      <td>t36316</td>\n",
       "      <td>0</td>\n",
       "    </tr>\n",
       "    <tr>\n",
       "      <th>3</th>\n",
       "      <td>w5507</td>\n",
       "      <td>t15145</td>\n",
       "      <td>1</td>\n",
       "    </tr>\n",
       "    <tr>\n",
       "      <th>4</th>\n",
       "      <td>w2982</td>\n",
       "      <td>t44785</td>\n",
       "      <td>1</td>\n",
       "    </tr>\n",
       "  </tbody>\n",
       "</table>\n",
       "</div>"
      ],
      "text/plain": [
       "  worker_id task_id  label\n",
       "0      w851  t30685      1\n",
       "1     w6991  t30008      0\n",
       "2     w2596  t36316      0\n",
       "3     w5507  t15145      1\n",
       "4     w2982  t44785      1"
      ]
     },
     "execution_count": 13,
     "metadata": {},
     "output_type": "execute_result"
    }
   ],
   "source": [
    "from final_class_ import AggregationMethods as AM\n",
    "toloka_2 = AM(J=2, print_preview=False)\n",
    "(\n",
    "    toloka_2.preprocess_crowd_dataset(return_input_data=True)\n",
    "    .head()\n",
    ")"
   ]
  },
  {
   "cell_type": "markdown",
   "metadata": {
    "slideshow": {
     "slide_type": "slide"
    }
   },
   "source": [
    "## Оценка точности\n",
    "\n",
    "Основной показатель качества — точность агрегированных ответов, оцениваемая на основе контрольных заданий (`голденсетов`)  набор заданий, для которых известен правильный ответ. "
   ]
  },
  {
   "cell_type": "code",
   "execution_count": 14,
   "metadata": {
    "slideshow": {
     "slide_type": "fragment"
    }
   },
   "outputs": [
    {
     "data": {
      "text/html": [
       "<div>\n",
       "<style scoped>\n",
       "    .dataframe tbody tr th:only-of-type {\n",
       "        vertical-align: middle;\n",
       "    }\n",
       "\n",
       "    .dataframe tbody tr th {\n",
       "        vertical-align: top;\n",
       "    }\n",
       "\n",
       "    .dataframe thead th {\n",
       "        text-align: right;\n",
       "    }\n",
       "</style>\n",
       "<table border=\"1\" class=\"dataframe\">\n",
       "  <thead>\n",
       "    <tr style=\"text-align: right;\">\n",
       "      <th></th>\n",
       "      <th>task_id</th>\n",
       "      <th>label</th>\n",
       "    </tr>\n",
       "  </thead>\n",
       "  <tbody>\n",
       "    <tr>\n",
       "      <th>0</th>\n",
       "      <td>t30006</td>\n",
       "      <td>0</td>\n",
       "    </tr>\n",
       "    <tr>\n",
       "      <th>1</th>\n",
       "      <td>t33578</td>\n",
       "      <td>0</td>\n",
       "    </tr>\n",
       "    <tr>\n",
       "      <th>2</th>\n",
       "      <td>t22462</td>\n",
       "      <td>1</td>\n",
       "    </tr>\n",
       "    <tr>\n",
       "      <th>3</th>\n",
       "      <td>t52093</td>\n",
       "      <td>0</td>\n",
       "    </tr>\n",
       "    <tr>\n",
       "      <th>4</th>\n",
       "      <td>t26935</td>\n",
       "      <td>0</td>\n",
       "    </tr>\n",
       "  </tbody>\n",
       "</table>\n",
       "</div>"
      ],
      "text/plain": [
       "  task_id  label\n",
       "0  t30006      0\n",
       "1  t33578      0\n",
       "2  t22462      1\n",
       "3  t52093      0\n",
       "4  t26935      0"
      ]
     },
     "execution_count": 14,
     "metadata": {},
     "output_type": "execute_result"
    }
   ],
   "source": [
    "(\n",
    "    toloka_2.preprocess_golden_dataset(return_input_data=True)\n",
    "    .head()\n",
    ")\n"
   ]
  },
  {
   "cell_type": "markdown",
   "metadata": {
    "slideshow": {
     "slide_type": "slide"
    }
   },
   "source": [
    "## [Toloka Aggregation Relevance 5](https://toloka.ai/ru/datasets?turbo=true)\n",
    "\n",
    "Этот (датасет) такой же, как предыдущий, только оценки здесь собирались не по бинарной, а по пятибалльной шкале в проекте «Релевантность (`5` градаций)»:\n",
    "\n",
    "- `Витальный` - **5**\n",
    "- `Полезный` - **4**\n",
    "- `+Релевантный` - **3**\n",
    "- `-Релевантный` - **2**\n",
    "- `Нерелевантный` - **1**\n",
    "\n",
    "Отличие: некоторые задания в (датасете) имеют не один, а `несколько` правильных ответов."
   ]
  },
  {
   "cell_type": "code",
   "execution_count": 15,
   "metadata": {
    "slideshow": {
     "slide_type": "fragment"
    }
   },
   "outputs": [
    {
     "data": {
      "text/html": [
       "<div>\n",
       "<style scoped>\n",
       "    .dataframe tbody tr th:only-of-type {\n",
       "        vertical-align: middle;\n",
       "    }\n",
       "\n",
       "    .dataframe tbody tr th {\n",
       "        vertical-align: top;\n",
       "    }\n",
       "\n",
       "    .dataframe thead th {\n",
       "        text-align: right;\n",
       "    }\n",
       "</style>\n",
       "<table border=\"1\" class=\"dataframe\">\n",
       "  <thead>\n",
       "    <tr style=\"text-align: right;\">\n",
       "      <th></th>\n",
       "      <th>worker_id</th>\n",
       "      <th>task_id</th>\n",
       "      <th>label</th>\n",
       "    </tr>\n",
       "  </thead>\n",
       "  <tbody>\n",
       "    <tr>\n",
       "      <th>0</th>\n",
       "      <td>w360</td>\n",
       "      <td>t186849</td>\n",
       "      <td>4</td>\n",
       "    </tr>\n",
       "    <tr>\n",
       "      <th>1</th>\n",
       "      <td>w43</td>\n",
       "      <td>t174611</td>\n",
       "      <td>5</td>\n",
       "    </tr>\n",
       "    <tr>\n",
       "      <th>2</th>\n",
       "      <td>w1040</td>\n",
       "      <td>t198665</td>\n",
       "      <td>3</td>\n",
       "    </tr>\n",
       "    <tr>\n",
       "      <th>3</th>\n",
       "      <td>w618</td>\n",
       "      <td>t63171</td>\n",
       "      <td>5</td>\n",
       "    </tr>\n",
       "    <tr>\n",
       "      <th>4</th>\n",
       "      <td>w98</td>\n",
       "      <td>t141574</td>\n",
       "      <td>5</td>\n",
       "    </tr>\n",
       "  </tbody>\n",
       "</table>\n",
       "</div>"
      ],
      "text/plain": [
       "  worker_id  task_id  label\n",
       "0      w360  t186849      4\n",
       "1       w43  t174611      5\n",
       "2     w1040  t198665      3\n",
       "3      w618   t63171      5\n",
       "4       w98  t141574      5"
      ]
     },
     "execution_count": 15,
     "metadata": {},
     "output_type": "execute_result"
    }
   ],
   "source": [
    "toloka_5 = AM(J=5)\n",
    "(\n",
    "    toloka_5.preprocess_crowd_dataset(return_input_data=True)\n",
    "    .head()\n",
    ")\n"
   ]
  },
  {
   "cell_type": "code",
   "execution_count": 16,
   "metadata": {
    "slideshow": {
     "slide_type": "subslide"
    }
   },
   "outputs": [
    {
     "data": {
      "text/html": [
       "<div>\n",
       "<style scoped>\n",
       "    .dataframe tbody tr th:only-of-type {\n",
       "        vertical-align: middle;\n",
       "    }\n",
       "\n",
       "    .dataframe tbody tr th {\n",
       "        vertical-align: top;\n",
       "    }\n",
       "\n",
       "    .dataframe thead th {\n",
       "        text-align: right;\n",
       "    }\n",
       "</style>\n",
       "<table border=\"1\" class=\"dataframe\">\n",
       "  <thead>\n",
       "    <tr style=\"text-align: right;\">\n",
       "      <th></th>\n",
       "      <th>task_id</th>\n",
       "      <th>label</th>\n",
       "    </tr>\n",
       "  </thead>\n",
       "  <tbody>\n",
       "    <tr>\n",
       "      <th>0</th>\n",
       "      <td>t342646</td>\n",
       "      <td>2</td>\n",
       "    </tr>\n",
       "    <tr>\n",
       "      <th>1</th>\n",
       "      <td>t189317</td>\n",
       "      <td>4</td>\n",
       "    </tr>\n",
       "    <tr>\n",
       "      <th>2</th>\n",
       "      <td>t48377</td>\n",
       "      <td>5</td>\n",
       "    </tr>\n",
       "    <tr>\n",
       "      <th>3</th>\n",
       "      <td>t73830</td>\n",
       "      <td>3</td>\n",
       "    </tr>\n",
       "    <tr>\n",
       "      <th>4</th>\n",
       "      <td>t60415</td>\n",
       "      <td>2</td>\n",
       "    </tr>\n",
       "  </tbody>\n",
       "</table>\n",
       "</div>"
      ],
      "text/plain": [
       "   task_id  label\n",
       "0  t342646      2\n",
       "1  t189317      4\n",
       "2   t48377      5\n",
       "3   t73830      3\n",
       "4   t60415      2"
      ]
     },
     "execution_count": 16,
     "metadata": {},
     "output_type": "execute_result"
    }
   ],
   "source": [
    "(\n",
    "    toloka_5.preprocess_golden_dataset(return_input_data=True)\n",
    "    .head()\n",
    ")\n"
   ]
  },
  {
   "cell_type": "markdown",
   "metadata": {
    "slideshow": {
     "slide_type": "slide"
    }
   },
   "source": [
    "## Постановка задачи\n",
    "\n",
    "Пусть имеется $N$ сайтов $x_1, \\ldots, x_n$, каждый из которых принадлежит одному из $J$ классов ${1, \\ldots, J}$. \n",
    "\n",
    "Имеется $K$ толокеров, каждый из которых некоторым (необязательно всем) сайтам поставил в соответствие определённый класс. На входе имеем матрицу меток:\n",
    "\n",
    "$$\\large Y \\in \\mathbb{R}^{N \\times K}$$\n",
    "\n",
    "$$\\large y_{nk} \\in \\{0, \\ldots, J\\}$$\n",
    "\n",
    "где класс $0$ означает, что соответствующий толокер не проставил метку для сайта $n$:\n",
    "\n",
    "**Цель**: имея ответы толокеров для каждого примера $i$ предсказать правильную метку $y_i$. Предполагается, что данная метка существует и единственна, то есть необходимо минимизировать некоторый эмпирический риск:\n",
    "\n",
    "$$\\large F = \\frac{1}{N}\\sum\\limits_{i=1}^N \\mathrm{I}(y_i \\neq \\hat{y}_i) \\to \\min$$\n",
    "\n",
    "где $\\hat{y}_i$ - предсказание метки, а $I(x)$ - индикаторная функция, возвращающая $1$, если метка истинная и $0$ - в противном случае."
   ]
  },
  {
   "cell_type": "markdown",
   "metadata": {
    "slideshow": {
     "slide_type": "slide"
    }
   },
   "source": [
    "## Toloka Aggregation 2: `InFo`"
   ]
  },
  {
   "cell_type": "code",
   "execution_count": 23,
   "metadata": {},
   "outputs": [
    {
     "name": "stdout",
     "output_type": "stream",
     "text": [
      "\n",
      "                1. Количество сайтов: \u001b[1m475536\u001b[0;0m.\n",
      "                2. Всего размеченных сайтов: \u001b[1m99319\u001b[0;0m.\n",
      "                    - среднее количество толокеров на разметку сайта:  \u001b[1m4.79\u001b[0;0m;\n",
      "                    - std: \u001b[1m0.69\u001b[0;0m;\n",
      "                    - медиана:\u001b[1m 5.0\u001b[0;0m.\n",
      "                3. Количестов толокеров, выполнявших задание: \u001b[1m7138\u001b[0;0m\n",
      "                    - в среднем толокеры выполняли заданий: \u001b[1m66.62\u001b[0;0m;\n",
      "                    - std: \u001b[1m85.45\u001b[0;0m; \n",
      "                    - медиана: \u001b[1m40.0\u001b[0;0m. \n",
      "                4. Распределение классов на crowd датасете:\n",
      "                    1: \u001b[1m0.58\u001b[0;0m\n",
      "                    0: \u001b[1m0.42\u001b[0;0m\n",
      "                5. Количество сайтов golden labels: \u001b[1m10079\u001b[0;0m\n",
      "                6. Распределение классов на golden датасете:\n",
      "                    1: \u001b[1m0.4\u001b[0;0m\n",
      "                    0: \u001b[1m0.6\u001b[0;0m\n",
      "                7. Accuracy толокеров:\n",
      "                    - в среднем: \u001b[1m63.3\u001b[0;0m\n",
      "                    - медиана: \u001b[1m66.7\u001b[0;0m\n",
      "                8. Средняя accuracy размеченных меток(в сравнении с golden set): \u001b[1m69.94%\u001b[0;0m\n",
      "                \n"
     ]
    }
   ],
   "source": [
    "toloka_2.visual_stat()"
   ]
  },
  {
   "cell_type": "code",
   "execution_count": 17,
   "metadata": {},
   "outputs": [
    {
     "name": "stderr",
     "output_type": "stream",
     "text": [
      "c:\\users\\shiro\\appdata\\local\\programs\\python\\python38\\lib\\site-packages\\seaborn\\distributions.py:2551: FutureWarning: `distplot` is a deprecated function and will be removed in a future version. Please adapt your code to use either `displot` (a figure-level function with similar flexibility) or `histplot` (an axes-level function for histograms).\n",
      "  warnings.warn(msg, FutureWarning)\n"
     ]
    },
    {
     "data": {
      "image/png": "[encoded data removed]",
      "text/plain": [
       "<Figure size 864x432 with 1 Axes>"
      ]
     },
     "metadata": {
      "needs_background": "light"
     },
     "output_type": "display_data"
    }
   ],
   "source": [
    "import seaborn as sns\n",
    "dat = toloka_2.preprocess_crowd_dataset()\n",
    "de = dat.groupby('task_id')['worker_id'].count()\n",
    "fig, ax = plt.subplots(1, 1, figsize = (12, 6))\n",
    "sns.distplot(de.values, ax=ax, \n",
    "             hist_kws = {'color':'lightblue', \n",
    "                         'edgecolor':'black',\n",
    "                         'linewidth':2, \n",
    "                         'linestyle':'--', \n",
    "                         'alpha':0.7}, \n",
    "             color='blue', kde=False, label='J = 99139')\n",
    "ax.set_xlabel('Количество оценок на один сайт', fontsize=18)\n",
    "ax.set_title('AR2\\nMean = 4.79, Std = 0.79, Median = 5.0', fontsize=18)\n",
    "ax.legend(fontsize=18)\n",
    "ax.set_xticks(np.arange(1, 6))\n",
    "plt.show()"
   ]
  },
  {
   "cell_type": "code",
   "execution_count": 18,
   "metadata": {},
   "outputs": [
    {
     "data": {
      "image/png": "[encoded data removed]",
      "text/plain": [
       "<Figure size 864x432 with 1 Axes>"
      ]
     },
     "metadata": {
      "needs_background": "light"
     },
     "output_type": "display_data"
    }
   ],
   "source": [
    "import seaborn as sns\n",
    "dat = toloka_5.preprocess_crowd_dataset()\n",
    "de = dat.groupby('task_id')['worker_id'].count()\n",
    "fig, ax = plt.subplots(1, 1, figsize = (12, 6))\n",
    "pd.value_counts(de)[:3].plot.bar(color = 'lightblue', \n",
    "                                 linestyle='--', \n",
    "                                 edgecolor='black', \n",
    "                                 linewidth = 2, \n",
    "                                 alpha = 0.7, label='J=363814')\n",
    "ax.set_xlabel('Количество оценок на один сайт', fontsize=18)\n",
    "ax.set_title('AR5\\nMean = 3.0, Std = 0.75, Median = 3.0', fontsize=18)\n",
    "ax.legend(fontsize=18)\n",
    "plt.show()"
   ]
  },
  {
   "cell_type": "code",
   "execution_count": 19,
   "metadata": {},
   "outputs": [
    {
     "name": "stderr",
     "output_type": "stream",
     "text": [
      "c:\\users\\shiro\\appdata\\local\\programs\\python\\python38\\lib\\site-packages\\seaborn\\distributions.py:2551: FutureWarning: `distplot` is a deprecated function and will be removed in a future version. Please adapt your code to use either `displot` (a figure-level function with similar flexibility) or `histplot` (an axes-level function for histograms).\n",
      "  warnings.warn(msg, FutureWarning)\n"
     ]
    },
    {
     "data": {
      "image/png": "[encoded data removed]",
      "text/plain": [
       "<Figure size 864x432 with 1 Axes>"
      ]
     },
     "metadata": {
      "needs_background": "light"
     },
     "output_type": "display_data"
    }
   ],
   "source": [
    "import seaborn as sns\n",
    "dat = toloka_2.preprocess_crowd_dataset()\n",
    "de = dat.groupby('task_id')['worker_id'].count()\n",
    "fig, ax = plt.subplots(1, 1, figsize = (12, 6))\n",
    "sns.distplot(de.values, ax=ax, \n",
    "             hist_kws = {'color':'lightblue', \n",
    "                         'edgecolor':'black',\n",
    "                         'linewidth':2, \n",
    "                         'linestyle':'--', \n",
    "                         'alpha':0.7}, \n",
    "             color='blue', kde=False, label='J = 99139')\n",
    "ax.set_xlabel('Количество оценок на один сайт', fontsize=18)\n",
    "ax.set_title('AR2\\nMean = 4.79, Std = 0.79, Median = 5.0', fontsize=18)\n",
    "ax.legend(fontsize=18)\n",
    "plt.show()"
   ]
  },
  {
   "cell_type": "code",
   "execution_count": 20,
   "metadata": {},
   "outputs": [
    {
     "name": "stdout",
     "output_type": "stream",
     "text": [
      "\n",
      "                1. Количество сайтов: \u001b[1m1091918\u001b[0;0m.\n",
      "                2. Всего размеченных сайтов: \u001b[1m363814\u001b[0;0m.\n",
      "                    - среднее количество толокеров на разметку сайта:  \u001b[1m3.0\u001b[0;0m;\n",
      "                    - std: \u001b[1m0.75\u001b[0;0m;\n",
      "                    - медиана:\u001b[1m 3.0\u001b[0;0m.\n",
      "                3. Количестов толокеров, выполнявших задание: \u001b[1m1273\u001b[0;0m\n",
      "                    - в среднем толокеры выполняли заданий: \u001b[1m857.75\u001b[0;0m;\n",
      "                    - std: \u001b[1m1684.48\u001b[0;0m; \n",
      "                    - медиана: \u001b[1m198.0\u001b[0;0m. \n",
      "                4. Распределение классов на crowd датасете:\n",
      "                    1: \u001b[1m0.05\u001b[0;0m\n",
      "                    2: \u001b[1m0.01\u001b[0;0m\n",
      "                    3: \u001b[1m0.36\u001b[0;0m\n",
      "                    4: \u001b[1m0.18\u001b[0;0m\n",
      "                    5: \u001b[1m0.39\u001b[0;0m\n",
      "                5. Количество сайтов golden labels: \u001b[1m33860\u001b[0;0m\n",
      "                6. Распределение классов на golden датасете:\n",
      "                    1: \u001b[1m0.12\u001b[0;0m\n",
      "                    2: \u001b[1m0.27\u001b[0;0m\n",
      "                    3: \u001b[1m0.27\u001b[0;0m\n",
      "                    4: \u001b[1m0.16\u001b[0;0m\n",
      "                    5: \u001b[1m0.19\u001b[0;0m\n",
      "                7. Accuracy толокеров:\n",
      "                    - в среднем: \u001b[1m77.11%\u001b[0;0m\n",
      "                    - медиана: \u001b[1m82.63%\u001b[0;0m\n",
      "                8. Средняя accuracy размеченных меток(в сравнении с golden set): \u001b[1m84.3%\u001b[0;0m\n",
      "                \n"
     ]
    }
   ],
   "source": [
    "toloka_5.visual_stat()"
   ]
  },
  {
   "cell_type": "code",
   "execution_count": 21,
   "metadata": {},
   "outputs": [
    {
     "data": {
      "image/png": "[encoded data removed]",
      "text/plain": [
       "<Figure size 864x432 with 1 Axes>"
      ]
     },
     "metadata": {
      "needs_background": "light"
     },
     "output_type": "display_data"
    }
   ],
   "source": [
    "import seaborn as sns\n",
    "dat = toloka_2.preprocess_crowd_dataset()\n",
    "d = dat.groupby('worker_id')['task_id'].count()\n",
    "fig, ax = plt.subplots(1, 1, figsize = (12, 6))\n",
    "sns.distplot(d.values, ax=ax, \n",
    "             hist_kws = {'color':'lightblue', \n",
    "                         'edgecolor':'black',\n",
    "                         'linewidth':2, \n",
    "                         'linestyle':'--', \n",
    "                         'alpha':0.7}, \n",
    "             color='blue', kde=False, label='W = 7137')\n",
    "ax.set_xlabel('Количестов заданий, выполняемых толокеров', fontsize=18)\n",
    "ax.set_title('AR2\\nMean = 66.62, Std = 85.45, Median = 40.0', fontsize=18)\n",
    "ax.legend(fontsize=18)\n",
    "plt.show()"
   ]
  },
  {
   "cell_type": "code",
   "execution_count": 22,
   "metadata": {},
   "outputs": [
    {
     "data": {
      "image/png": "[encoded data removed]",
      "text/plain": [
       "<Figure size 864x432 with 1 Axes>"
      ]
     },
     "metadata": {
      "needs_background": "light"
     },
     "output_type": "display_data"
    }
   ],
   "source": [
    "import seaborn as sns\n",
    "dat = toloka_5.preprocess_crowd_dataset()\n",
    "d = dat.groupby('worker_id')['task_id'].count()\n",
    "fig, ax = plt.subplots(1, 1, figsize = (12, 6))\n",
    "sns.distplot(d.values, ax=ax, \n",
    "             hist_kws = {'color':'lightblue', \n",
    "                         'edgecolor':'black',\n",
    "                         'linewidth':2, \n",
    "                         'linestyle':'--', \n",
    "                         'alpha':0.7}, \n",
    "             color='blue', kde=False, label='W = 1273')\n",
    "ax.set_xlabel('Количестов заданий, выполняемых толокеров', fontsize=18)\n",
    "ax.set_title('AR5\\nMean = 857.75, Std = 1684.48, Median = 198.0', fontsize=18)\n",
    "ax.legend(fontsize=18)\n",
    "plt.show()"
   ]
  },
  {
   "cell_type": "code",
   "execution_count": 67,
   "metadata": {},
   "outputs": [],
   "source": [
    "toloka_estimates = toloka_2.preprocess_crowd_dataset()\n",
    "etoloka_estimates = toloka_2.preprocess_golden_dataset()\n",
    "merged = pd.merge(left=toloka_estimates, \n",
    "                  right=etoloka_estimates, \n",
    "                  on='task_id', \n",
    "                  suffixes=('_pred', '_true'))\n",
    "grouped = merged.groupby(by=['worker_id', 'task_id']).sum()\n",
    "acc = [accuracy_score(grouped.query(f\"worker_id=='{i}'\").label_true.values,\n",
    "                      grouped.query(f\"worker_id=='{i}'\").label_pred.values) \n",
    "       for i in pd.unique(np.array(list(grouped.index))[:, 0])]"
   ]
  },
  {
   "cell_type": "code",
   "execution_count": 80,
   "metadata": {},
   "outputs": [
    {
     "data": {
      "image/png": "[encoded data removed]",
      "text/plain": [
       "<Figure size 360x360 with 1 Axes>"
      ]
     },
     "metadata": {
      "needs_background": "light"
     },
     "output_type": "display_data"
    }
   ],
   "source": [
    "sns.catplot(data=pd.DataFrame(np.array(acc)*100, columns=['Точность верных ответов работников']), \n",
    "            kind='box', color = 'lightblue')\n",
    "plt.show()"
   ]
  },
  {
   "cell_type": "code",
   "execution_count": 69,
   "metadata": {
    "scrolled": false
   },
   "outputs": [
    {
     "name": "stderr",
     "output_type": "stream",
     "text": [
      "c:\\users\\shiro\\appdata\\local\\programs\\python\\python38\\lib\\site-packages\\seaborn\\distributions.py:2551: FutureWarning: `distplot` is a deprecated function and will be removed in a future version. Please adapt your code to use either `displot` (a figure-level function with similar flexibility) or `histplot` (an axes-level function for histograms).\n",
      "  warnings.warn(msg, FutureWarning)\n"
     ]
    },
    {
     "data": {
      "image/png": "[encoded data removed]",
      "text/plain": [
       "<Figure size 864x432 with 1 Axes>"
      ]
     },
     "metadata": {
      "needs_background": "light"
     },
     "output_type": "display_data"
    }
   ],
   "source": [
    "fig, ax = plt.subplots(1, 1, figsize = (12, 6))\n",
    "sns.distplot(np.array(acc) * 100, ax=ax, \n",
    "             hist_kws = {'color':'lightblue', \n",
    "                         'edgecolor':'black',\n",
    "                         'linewidth':2, \n",
    "                         'linestyle':'--', \n",
    "                         'alpha':0.7}, \n",
    "             color='blue', kde=False)\n",
    "ax.set_xlabel('Точность верных ответов работников', fontsize=18)\n",
    "ax.set_title('Mean = 69.94%', fontsize=18)\n",
    "plt.show()"
   ]
  },
  {
   "cell_type": "markdown",
   "metadata": {
    "slideshow": {
     "slide_type": "slide"
    }
   },
   "source": [
    "## Ошибка комитета большинства\n",
    "\n",
    "Пусть $n$ - количество работников, которые дали ответ на определённое задание, $\\mu$ - `mean accuracy` $p = 1 - \\mu$ - вероятность ошибки.\n",
    "\n",
    "### Теорема 1. \n",
    "\n",
    "Математическое ожидание вероятности того, что как минимум $\\left[\\frac{n}{2}\\right]$ работников выдадут правильный результат при условии, что толокеры отвечают независимо:\n",
    "\n",
    "$$\\large \\mathrm{E}\\left(\\mathrm{P}_{\\frac{n}{2}}\\right) = \\sum\\limits_{k = \\left[\\frac{n}{2}\\right]}^n C_n^k \\mu_k (1-\\mu)^{n-k}$$\n",
    "\n",
    "Можно оценить нижнюю границу с помощью [Границы Чернова](https://neerc.ifmo.ru/wiki/index.php?title=%D0%93%D1%80%D0%B0%D0%BD%D0%B8%D1%86%D0%B0_%D0%A7%D0%B5%D1%80%D0%BD%D0%BE%D0%B2%D0%B0).\n",
    "\n",
    "### Theorem 2. `Неравенство Хёфдинга`\n",
    "\n",
    "$$ \\large \\mathrm{E}\\left(\\mathrm{P}_{\\frac{n}{2}}\\right) = \\sum\\limits_{k = \\left[\\frac{n}{2}\\right]}^n C_n^k \\geqslant 1 - e^{-2n\\left(\\mu - \\frac{1}{2}\\right)^2}$$"
   ]
  },
  {
   "cell_type": "markdown",
   "metadata": {
    "slideshow": {
     "slide_type": "slide"
    }
   },
   "source": [
    "## Ошибка комитета большинства\n",
    "\n",
    "Тогда из `Theorem 2`, полагая, что $1 - e^{-2n\\left(\\mu - \\frac{1}{2}\\right)^2} \\geqslant C$, где $C$ - нижняя граница, что означает, что `expected accuracy` не меньше $C$, можно вывести следующий теоретический результат:\n",
    "\n",
    "### Theorem 3.\n",
    "\n",
    "Для заданной необходимой точности $C$ и `mean accuracy` работнико $\\mu$, число работников равное:\n",
    "\n",
    "$$\\large n \\geqslant \\frac{-\\ln (1-C)}{2\\left(\\mu - \\frac{1}{2}\\right)^2}$$\n",
    "\n",
    "**гарантирует** (с точки зрения теории вероятностей), что ожидаемая `accuracy` будет не меньше необходимой точности $C$.\n"
   ]
  },
  {
   "cell_type": "code",
   "execution_count": 165,
   "metadata": {
    "slideshow": {
     "slide_type": "skip"
    }
   },
   "outputs": [],
   "source": [
    "accuracy = np.arange(0.5, 0.99, 0.05)\n",
    "n = [int(- np.log(1 - C) / (2 * (0.6994 - 1 / 2) ** 2)) for C in np.arange(0.5, 0.99, 0.05)]\n",
    "dependec_workers_accuracy = pd.DataFrame.from_dict(dict(zip(accuracy, n)),  orient='index', columns=['n'])\n",
    "dependec_workers_accuracy.index.name = 'Accuracy'"
   ]
  },
  {
   "cell_type": "code",
   "execution_count": 166,
   "metadata": {
    "slideshow": {
     "slide_type": "fragment"
    }
   },
   "outputs": [
    {
     "data": {
      "text/html": [
       "<div>\n",
       "<style scoped>\n",
       "    .dataframe tbody tr th:only-of-type {\n",
       "        vertical-align: middle;\n",
       "    }\n",
       "\n",
       "    .dataframe tbody tr th {\n",
       "        vertical-align: top;\n",
       "    }\n",
       "\n",
       "    .dataframe thead th {\n",
       "        text-align: right;\n",
       "    }\n",
       "</style>\n",
       "<table border=\"1\" class=\"dataframe\">\n",
       "  <thead>\n",
       "    <tr style=\"text-align: right;\">\n",
       "      <th>Accuracy</th>\n",
       "      <th>0.50</th>\n",
       "      <th>0.55</th>\n",
       "      <th>0.60</th>\n",
       "      <th>0.65</th>\n",
       "      <th>0.70</th>\n",
       "      <th>0.75</th>\n",
       "      <th>0.80</th>\n",
       "      <th>0.85</th>\n",
       "      <th>0.90</th>\n",
       "      <th>0.95</th>\n",
       "    </tr>\n",
       "  </thead>\n",
       "  <tbody>\n",
       "    <tr>\n",
       "      <th>n</th>\n",
       "      <td>8</td>\n",
       "      <td>10</td>\n",
       "      <td>11</td>\n",
       "      <td>13</td>\n",
       "      <td>15</td>\n",
       "      <td>17</td>\n",
       "      <td>20</td>\n",
       "      <td>23</td>\n",
       "      <td>28</td>\n",
       "      <td>37</td>\n",
       "    </tr>\n",
       "  </tbody>\n",
       "</table>\n",
       "</div>"
      ],
      "text/plain": [
       "Accuracy  0.50  0.55  0.60  0.65  0.70  0.75  0.80  0.85  0.90  0.95\n",
       "n            8    10    11    13    15    17    20    23    28    37"
      ]
     },
     "execution_count": 166,
     "metadata": {},
     "output_type": "execute_result"
    }
   ],
   "source": [
    "dependec_workers_accuracy.T"
   ]
  },
  {
   "cell_type": "markdown",
   "metadata": {
    "slideshow": {
     "slide_type": "fragment"
    }
   },
   "source": [
    "[Proof: 3.2.1](https://arxiv.org/pdf/1207.0143v1.pdf)"
   ]
  },
  {
   "cell_type": "markdown",
   "metadata": {
    "slideshow": {
     "slide_type": "slide"
    }
   },
   "source": [
    "## Toloka Aggregation 5: `InFo`"
   ]
  },
  {
   "cell_type": "code",
   "execution_count": 11,
   "metadata": {
    "slideshow": {
     "slide_type": "fragment"
    }
   },
   "outputs": [
    {
     "name": "stdout",
     "output_type": "stream",
     "text": [
      "\n",
      "                1. Количество сайтов: \u001b[1m1091918\u001b[0;0m.\n",
      "                2. Всего размеченных сайтов: \u001b[1m363814\u001b[0;0m.\n",
      "                    - среднее количество толокеров на разметку сайта:  \u001b[1m3.0\u001b[0;0m;\n",
      "                    - std: \u001b[1m0.75\u001b[0;0m;\n",
      "                    - медиана:\u001b[1m 3.0\u001b[0;0m.\n",
      "                3. Количестов толокеров, выполнявших задание: \u001b[1m1273\u001b[0;0m\n",
      "                    - в среднем толокеры выполняли заданий: \u001b[1m857.75\u001b[0;0m;\n",
      "                    - std: \u001b[1m1684.48\u001b[0;0m; \n",
      "                    - медиана: \u001b[1m198.0\u001b[0;0m. \n",
      "                4. Распределение классов на crowd датасете:\n",
      "                    1: \u001b[1m0.05\u001b[0;0m\n",
      "                    2: \u001b[1m0.01\u001b[0;0m\n",
      "                    3: \u001b[1m0.36\u001b[0;0m\n",
      "                    4: \u001b[1m0.18\u001b[0;0m\n",
      "                    5: \u001b[1m0.39\u001b[0;0m\n",
      "                5. Количество сайтов golden labels: \u001b[1m33860\u001b[0;0m\n",
      "                6. Распределение классов на golden датасете:\n",
      "                    1: \u001b[1m0.12\u001b[0;0m\n",
      "                    2: \u001b[1m0.27\u001b[0;0m\n",
      "                    3: \u001b[1m0.27\u001b[0;0m\n",
      "                    4: \u001b[1m0.16\u001b[0;0m\n",
      "                    5: \u001b[1m0.19\u001b[0;0m\n",
      "                7. Accuracy толокеров:\n",
      "                    - в среднем: \u001b[1m77.11%\u001b[0;0m\n",
      "                    - медиана: \u001b[1m82.63%\u001b[0;0m\n",
      "                8. Средняя accuracy размеченных меток(в сравнении с golden set): \u001b[1m84.3%\u001b[0;0m\n",
      "                \n"
     ]
    }
   ],
   "source": [
    "toloka_5.visual_stat()"
   ]
  },
  {
   "cell_type": "code",
   "execution_count": 12,
   "metadata": {
    "slideshow": {
     "slide_type": "skip"
    }
   },
   "outputs": [],
   "source": [
    "accuracy = np.arange(0.5, 0.99, 0.05)\n",
    "n = [int(- np.log(1 - C) / (2 * (0.843 - 1 / 2) ** 2)) for C in np.arange(0.5, 0.99, 0.05)]\n",
    "dependec_workers_accuracy_5 = pd.DataFrame.from_dict(dict(zip(accuracy, n)),  orient='index', columns=['n'])\n",
    "dependec_workers_accuracy_5.index.name = 'Accuracy'"
   ]
  },
  {
   "cell_type": "code",
   "execution_count": 13,
   "metadata": {
    "slideshow": {
     "slide_type": "fragment"
    }
   },
   "outputs": [
    {
     "data": {
      "text/html": [
       "<div>\n",
       "<style scoped>\n",
       "    .dataframe tbody tr th:only-of-type {\n",
       "        vertical-align: middle;\n",
       "    }\n",
       "\n",
       "    .dataframe tbody tr th {\n",
       "        vertical-align: top;\n",
       "    }\n",
       "\n",
       "    .dataframe thead th {\n",
       "        text-align: right;\n",
       "    }\n",
       "</style>\n",
       "<table border=\"1\" class=\"dataframe\">\n",
       "  <thead>\n",
       "    <tr style=\"text-align: right;\">\n",
       "      <th>Accuracy</th>\n",
       "      <th>0.50</th>\n",
       "      <th>0.55</th>\n",
       "      <th>0.60</th>\n",
       "      <th>0.65</th>\n",
       "      <th>0.70</th>\n",
       "      <th>0.75</th>\n",
       "      <th>0.80</th>\n",
       "      <th>0.85</th>\n",
       "      <th>0.90</th>\n",
       "      <th>0.95</th>\n",
       "    </tr>\n",
       "  </thead>\n",
       "  <tbody>\n",
       "    <tr>\n",
       "      <th>n</th>\n",
       "      <td>2</td>\n",
       "      <td>3</td>\n",
       "      <td>3</td>\n",
       "      <td>4</td>\n",
       "      <td>5</td>\n",
       "      <td>5</td>\n",
       "      <td>6</td>\n",
       "      <td>8</td>\n",
       "      <td>9</td>\n",
       "      <td>12</td>\n",
       "    </tr>\n",
       "  </tbody>\n",
       "</table>\n",
       "</div>"
      ],
      "text/plain": [
       "Accuracy  0.50  0.55  0.60  0.65  0.70  0.75  0.80  0.85  0.90  0.95\n",
       "n            2     3     3     4     5     5     6     8     9    12"
      ]
     },
     "execution_count": 13,
     "metadata": {},
     "output_type": "execute_result"
    }
   ],
   "source": [
    "dependec_workers_accuracy_5.T\n"
   ]
  },
  {
   "cell_type": "markdown",
   "metadata": {
    "slideshow": {
     "slide_type": "slide"
    }
   },
   "source": [
    "# Aggregation Methods\n",
    "\n",
    "1. Voting Ensambles\n",
    "\n",
    "2. Averaging\n",
    "\n",
    "3. Improved Averaging\n",
    "\n",
    "4. EM\n",
    "\n",
    "5. Matrix Decompositions*"
   ]
  },
  {
   "cell_type": "markdown",
   "metadata": {
    "slideshow": {
     "slide_type": "slide"
    }
   },
   "source": [
    "## I. Voting Ensembles\n",
    "\n",
    "### I.I Голосование по большинству (Majority vote: MV)\n",
    "\n",
    "$$\\large a(x) = \\operatorname{mode}\\left(b_1(x), \\ldots, b_n(x)\\right)$$\n",
    "\n",
    "### I.II Комитеты единогласия в бинарной задаче классификации (UC)\n",
    "\n",
    "$$\\large a(x) = \\operatorname{min}\\left(b_1(x), \\ldots, b_n(x)\\right)$$\n",
    "\n",
    "### I.III Обнаружение аномалий: `Mata Alghorithm` (AM)\n",
    "\n",
    "$$\\large a(x) = \\operatorname{max}\\left(b_1(x), \\ldots, b_n(x)\\right)$$\n",
    "\n",
    "А ещё может быть `treshold commitet`."
   ]
  },
  {
   "attachments": {
    "image.png": {
     "image/png": "[encoded data removed]"
    }
   },
   "cell_type": "markdown",
   "metadata": {
    "slideshow": {
     "slide_type": "slide"
    }
   },
   "source": [
    "## II. Averaging\n",
    "\n",
    "### II.I Mean (Average)\n",
    "\n",
    "$$ \\large a(x) = \\frac{1}{n}\\left(b_1(x) + \\ldots + b_n(x) \\right)$$\n",
    "\n",
    "### II.II [Kolmogorov averaging](https://ru.wikipedia.org/wiki/%D0%A1%D1%80%D0%B5%D0%B4%D0%BD%D0%B5%D0%B5_%D0%9A%D0%BE%D0%BB%D0%BC%D0%BE%D0%B3%D0%BE%D1%80%D0%BE%D0%B2%D0%B0)\n",
    "\n",
    "$$ \\large M(x_1, \\ldots, x_n) = \\varphi^{-1}\\left(\\frac{1}{n} \\sum\\limits_{k=1}^n \\varphi(x_k)\\right) =  \\varphi^{-1}\\left(\\frac{\\varphi(x_1) + \\ldots + \\varphi(n)}{n}\\right)$$\n",
    "\n",
    "где $\\varphi$ - непрерывная строго монотонная функция, а $\\varphi^{-1}$ - функция, обратная к $\\varphi$. При $\\varphi(x) = x$ - среднее геометрическое, при $\\varphi(x) = \\ln x$.\n",
    "\n",
    "### II.III [Ручные методы ассамблирования](https://www.kaggle.com/c/amazon-employee-access-challenge) (`метод Ефимова`)\n",
    "\n",
    "\n",
    "![image.png](attachment:image.png)"
   ]
  },
  {
   "cell_type": "markdown",
   "metadata": {
    "slideshow": {
     "slide_type": "slide"
    }
   },
   "source": [
    "## III.  Improved Averaging\n",
    "\n",
    "### III.I Weighted Averaging (MVA)\n",
    "\n",
    "$$ \\large a(x) = \\frac{\\sum\\limits_{i=1}^n w_i b_i(x)}{\\sum\\limits_{i=1}^n w_i}$$\n",
    "\n",
    "где $w_j$ - уровень надежности толокера, отражающий вероятность предоставить правильную метку для произволного примера.\n",
    "\n",
    "### III.II Голосование с весами (WAWA)\n",
    "\n",
    "$$ \\large a(x) = \\underset{j}{\\operatorname{argmax}}\\left[\\sum\\limits_{t: b_t(x) = j} w_t\\right]$$"
   ]
  },
  {
   "cell_type": "markdown",
   "metadata": {
    "slideshow": {
     "slide_type": "slide"
    }
   },
   "source": [
    "### III.III Bayes Wote\n",
    "\n",
    "При известных $w_j$ - вероятностях предоставления правильного ответа, доказано, что оптимальным является байесовское голосование, где вероятность класса пропорциональна его правдоподобию:\n",
    "\n",
    "$$\\large \\mathbb{P}\\{y_i = c\\} = \\prod\\limits_{j=1}^K q_j^{I(y_{ij} = c)} \\left(\\frac{1-q_j}{J-1}\\right)^{I(y_{ij} \\neq c)}$$\n",
    "\n",
    "Оценка характеристики толокера становится основной задачей и вот почему: посмотрим на результаты работы рассмотренных алгоритмов в первой части.\n",
    "\n",
    "**Proof**:\n",
    "\n",
    "- [Proof 1](https://i.cs.hku.hk/~ckcheng/papers/edbt15-jury.pdf)\n",
    "- [Proof 2](https://arxiv.org/pdf/1207.0143v1.pdf)"
   ]
  },
  {
   "cell_type": "markdown",
   "metadata": {
    "slideshow": {
     "slide_type": "slide"
    }
   },
   "source": [
    "## Test Functions Toloka Aggregation 2"
   ]
  },
  {
   "cell_type": "code",
   "execution_count": 24,
   "metadata": {
    "slideshow": {
     "slide_type": "fragment"
    }
   },
   "outputs": [
    {
     "name": "stdout",
     "output_type": "stream",
     "text": [
      "2 classes: Done Majority Vote\n",
      "2 classes: Done Average Vote\n",
      "2 classes: Done UC\n",
      "Done Alghorithm Maximise\n",
      "2 classes: Done MWA\n",
      "2 classes: Done Aggregation by Weights (WAWA) using W weights\n",
      "Iteration 40000\n",
      "Iteration 80000\n",
      "2 classes: Done WAWA + Bayes(W)\n",
      "2 classes: Done Aggregation by Weights (WAWA) using IDW weights\n",
      "2 classes: Done Aggregation by Weights (WAWA) using DWS weights\n",
      "Iteration 40000\n",
      "Iteration 80000\n",
      "2 classes: Done WAWA + Bayes(IDW)\n"
     ]
    }
   ],
   "source": [
    "MV_2 = toloka_2.MV()\n",
    "Average_2 = toloka_2.average()\n",
    "UC_2 = toloka_2.UC()\n",
    "AM_2 = toloka_2.AM()\n",
    "MWA, mwa_wr = toloka_2.MWA()\n",
    "WAWA, wawa_wr = toloka_2.WAWA()\n",
    "WAWA_Bayes_Wote = toloka_2.WAWA(bayes_likelyhood=True)\n",
    "WAWA_IDW, w_idw = toloka_2.WAWA(W='IDW')\n",
    "WAWA_DWS, w_dws = toloka_2.WAWA(W='DWS')\n",
    "WAWA_IDW, w_idw = toloka_2.WAWA(W='IDW', bayes_likelyhood=True)"
   ]
  },
  {
   "cell_type": "code",
   "execution_count": 25,
   "metadata": {
    "slideshow": {
     "slide_type": "fragment"
    }
   },
   "outputs": [
    {
     "data": {
      "text/html": [
       "<div>\n",
       "<style scoped>\n",
       "    .dataframe tbody tr th:only-of-type {\n",
       "        vertical-align: middle;\n",
       "    }\n",
       "\n",
       "    .dataframe tbody tr th {\n",
       "        vertical-align: top;\n",
       "    }\n",
       "\n",
       "    .dataframe thead th {\n",
       "        text-align: right;\n",
       "    }\n",
       "</style>\n",
       "<table border=\"1\" class=\"dataframe\">\n",
       "  <thead>\n",
       "    <tr style=\"text-align: right;\">\n",
       "      <th></th>\n",
       "      <th>MV</th>\n",
       "      <th>average</th>\n",
       "      <th>pred_UC(min)</th>\n",
       "      <th>pred_AM(max)</th>\n",
       "      <th>MWA</th>\n",
       "      <th>WAWA(W)</th>\n",
       "      <th>WAWA + Bayes(W)</th>\n",
       "      <th>WAWA(IDW)</th>\n",
       "      <th>WAWA(DWS)</th>\n",
       "      <th>WAWA + Bayes(IDW)</th>\n",
       "    </tr>\n",
       "  </thead>\n",
       "  <tbody>\n",
       "    <tr>\n",
       "      <th>Time (s)</th>\n",
       "      <td>7.664925</td>\n",
       "      <td>0.238843</td>\n",
       "      <td>0.628199</td>\n",
       "      <td>0.323794</td>\n",
       "      <td>8.817951</td>\n",
       "      <td>9.531563</td>\n",
       "      <td>320.653467</td>\n",
       "      <td>48.391266</td>\n",
       "      <td>48.219386</td>\n",
       "      <td>397.280352</td>\n",
       "    </tr>\n",
       "    <tr>\n",
       "      <th>Golden Accuracy (%)</th>\n",
       "      <td>77.636670</td>\n",
       "      <td>76.763568</td>\n",
       "      <td>74.551047</td>\n",
       "      <td>34.527235</td>\n",
       "      <td>80.166683</td>\n",
       "      <td>80.176605</td>\n",
       "      <td>82.488342</td>\n",
       "      <td>82.458577</td>\n",
       "      <td>82.528029</td>\n",
       "      <td>83.143169</td>\n",
       "    </tr>\n",
       "  </tbody>\n",
       "</table>\n",
       "</div>"
      ],
      "text/plain": [
       "                            MV    average  pred_UC(min)  pred_AM(max)  \\\n",
       "Time (s)              7.664925   0.238843      0.628199      0.323794   \n",
       "Golden Accuracy (%)  77.636670  76.763568     74.551047     34.527235   \n",
       "\n",
       "                           MWA    WAWA(W)  WAWA + Bayes(W)  WAWA(IDW)  \\\n",
       "Time (s)              8.817951   9.531563       320.653467  48.391266   \n",
       "Golden Accuracy (%)  80.166683  80.176605        82.488342  82.458577   \n",
       "\n",
       "                     WAWA(DWS)  WAWA + Bayes(IDW)  \n",
       "Time (s)             48.219386         397.280352  \n",
       "Golden Accuracy (%)  82.528029          83.143169  "
      ]
     },
     "execution_count": 25,
     "metadata": {},
     "output_type": "execute_result"
    }
   ],
   "source": [
    "pd.DataFrame(toloka_2.result_dict)\n"
   ]
  },
  {
   "cell_type": "markdown",
   "metadata": {
    "slideshow": {
     "slide_type": "slide"
    }
   },
   "source": [
    "## Test Functions Toloka Aggregation 5"
   ]
  },
  {
   "cell_type": "code",
   "execution_count": 26,
   "metadata": {
    "slideshow": {
     "slide_type": "fragment"
    }
   },
   "outputs": [
    {
     "name": "stdout",
     "output_type": "stream",
     "text": [
      "5 classes: Done Majority Vote\n",
      "5 classes: Done Average Vote\n",
      "5 classes: Done MWA\n",
      "5 classes: Done Aggregation by Weights (WAWA)\n"
     ]
    }
   ],
   "source": [
    "MV_5 = toloka_5.MV()\n",
    "Average_5 = toloka_5.average()\n",
    "MWA_5, mwa_wr_5 = toloka_5.MWA()\n",
    "WAWA_5, wawa_wr_5 = toloka_5.WAWA()\n"
   ]
  },
  {
   "cell_type": "code",
   "execution_count": 27,
   "metadata": {
    "slideshow": {
     "slide_type": "fragment"
    }
   },
   "outputs": [
    {
     "data": {
      "text/html": [
       "<div>\n",
       "<style scoped>\n",
       "    .dataframe tbody tr th:only-of-type {\n",
       "        vertical-align: middle;\n",
       "    }\n",
       "\n",
       "    .dataframe tbody tr th {\n",
       "        vertical-align: top;\n",
       "    }\n",
       "\n",
       "    .dataframe thead th {\n",
       "        text-align: right;\n",
       "    }\n",
       "</style>\n",
       "<table border=\"1\" class=\"dataframe\">\n",
       "  <thead>\n",
       "    <tr style=\"text-align: right;\">\n",
       "      <th></th>\n",
       "      <th>MV</th>\n",
       "      <th>pred_average</th>\n",
       "      <th>MWA</th>\n",
       "      <th>WAWA</th>\n",
       "    </tr>\n",
       "  </thead>\n",
       "  <tbody>\n",
       "    <tr>\n",
       "      <th>Time (s)</th>\n",
       "      <td>9.078467</td>\n",
       "      <td>2.558555</td>\n",
       "      <td>11.487422</td>\n",
       "      <td>10.544983</td>\n",
       "    </tr>\n",
       "    <tr>\n",
       "      <th>Golden Accuracy (%)</th>\n",
       "      <td>90.135854</td>\n",
       "      <td>84.087419</td>\n",
       "      <td>90.281187</td>\n",
       "      <td>90.431187</td>\n",
       "    </tr>\n",
       "  </tbody>\n",
       "</table>\n",
       "</div>"
      ],
      "text/plain": [
       "                            MV  pred_average        MWA       WAWA\n",
       "Time (s)              9.078467      2.558555  11.487422  10.544983\n",
       "Golden Accuracy (%)  90.135854     84.087419  90.281187  90.431187"
      ]
     },
     "execution_count": 27,
     "metadata": {},
     "output_type": "execute_result"
    }
   ],
   "source": [
    "pd.DataFrame(toloka_5.result_dict)\n"
   ]
  },
  {
   "cell_type": "markdown",
   "metadata": {
    "slideshow": {
     "slide_type": "slide"
    }
   },
   "source": [
    "## IV. Expectation Maximisation\n",
    "\n",
    "Задача ставится следуюшая:\n",
    "\n",
    "$$\\ln L(X_1, \\ldots, X_n \\vert  \\overset{\\to}{\\theta}) = \\sum\\limits_{i=1}^n \\log p(x_i \\vert \\overset{\\to}{\\theta}) \\to \\underset{\\theta}{\\max}$$\n",
    "\n",
    "Численное задача решать сложно. Поэтому примненяется EM-алгоритм. Вводятся латентные переменные: $Y_1, \\ldots, Y_n \\in \\{0, 1\\}$\n",
    "\n",
    "`EM-Алгоритм`:\n",
    "\n",
    "1. Подбираем начальные значения параметров $\\overset{\\to}{\\theta}^{(0)}$\n",
    "\n",
    "2. Expectation Step (E-step):\n",
    "\n",
    "$$\\mathbb{E}_Y \\left( \\overset{\\sim}{L}(x_1, \\ldots,x_n, Y_1, \\ldots, Y_n \\vert \\overset{\\to}{\\theta}^{(0)}\\right)$$\n",
    "\n",
    "3. Maximisation Step (M-step):\n",
    "\n",
    "$$\\max E_{Y}\\overset{\\sim}{L} \\to \\overset{\\to}{\\theta}^{(1)}$$\n",
    "\n",
    "4. Повторяем шаги $1-2$\n"
   ]
  },
  {
   "cell_type": "markdown",
   "metadata": {
    "slideshow": {
     "slide_type": "slide"
    }
   },
   "source": [
    "## Свойство EM-Алгоритма\n",
    "\n",
    "### Theorem 4. \n",
    "\n",
    "С каждым шагом процедуры `EM`-алгоритма логарифм правдоподобия **увеличивается**."
   ]
  },
  {
   "cell_type": "markdown",
   "metadata": {
    "slideshow": {
     "slide_type": "subslide"
    }
   },
   "source": [
    "**Proof**:\n",
    "\n",
    "$$\\log L(x_1, \\ldots, x_n \\vert \\overset{\\to}{\\theta}) = \\sum\\limits_{i=1}^n \\log p(x_i \\vert \\theta) = \\sum\\limits_{i=1}^n \\log \\frac{P_{(X, Y)}(x_i, y_i \\vert \\theta)}{P_{(Y \\vert X)}(y_i \\vert x_i, \\theta)} = $$\n",
    "$$ = \\sum\\limits_{i=1}^n \\log P_{(X, Y)}(x_i, y_i \\vert \\theta) - \\sum\\limits_{i=1}^n \\log P_{(Y \\vert X)}(y_i \\vert x_i, \\theta)$$\n",
    "\n",
    "На каждом шаге мы переходим к оценке $\\theta^{(n+1)}$:\n",
    "$$\\theta^{(n)} \\to \\theta^{(n+1)} =  \\underset{\\theta}{\\operatorname{argmax}} E_{Y} \\log L(x_,1 \\ldots, x_n, Y_1, \\ldots, Y_n)$$\n",
    "$$\\log L(x_1, \\ldots, x_n \\vert \\theta) = E_Y \\log L(x_1, \\ldots, x_n, Y_1, \\ldots, Y_n) - E_{Y}\\sum\\limits_{i=1}^n \\log p_{Y \\vert x}(y_i \\vert x_i, \\theta)$$\n",
    "$$\\log L(x_1, \\ldots, x_n \\vert \\theta^{(n)}) - \\log L(x_1, \\ldots, x_n \\vert \\theta^{(n+1)}) = $$\n",
    "$$E_{Y}\\log L(x_1,\\ldots,x_n, Y_1, \\ldots, Y_n \\vert \\theta_n ) - E_y \\log L(x_1, \\ldots, x_n, y_1, \\ldots, y_n) - \\sum\\limits_{i=1}^n E_Y \\log \\frac{P_{y \\vert x}(Y_i \\vert x_i, \\theta^{(n)})}{P_{Y \\vert X}(y_i \\vert x_i, \\theta^{(n+1)})}$$\n",
    "\n",
    "Первая часть - меньше нуля, вторая часть - больше нуля, потому что есть метрика Кульбака-Лейблера:\n",
    "$$K(f, g) = \\int\\limits f(x) \\log \\frac{f(x)}{g(x)} dx $$\n",
    "$$K(f, g) \\geqslant 0, K(f, g) = 0 \\Leftrightarrow f = g$$\n",
    "\n",
    "Следовательно, с каждым шагом логарифм правдоподобия будет увеличиваться. $\\blacksquare$"
   ]
  },
  {
   "cell_type": "markdown",
   "metadata": {
    "slideshow": {
     "slide_type": "slide"
    }
   },
   "source": [
    "## IV.I [Dawid Scene](https://citeseerx.ist.psu.edu/viewdoc/summary?doi=10.1.1.469.1377)\n",
    "\n",
    "Идея: будем вычислять для каждого толокера матрицу ошибок `IEE`:\n",
    "\n",
    "$$\\large \\pi_{qj}^{(k)}$$\n",
    "\n",
    "вероятность того, что толокер $k \\in {1, \\ldots, J}$ поставит метку $j \\in \\{1, \\ldots, J\\}$, если настоящей меткой является $q \\in \\{1, \\ldots, J\\}$.\n",
    "\n",
    "Выпишем правдоподобие выборки в предположении, что толокеры проставляют метки независимо друг от друга. Обозначим за $p_j$ - вероятности распределения классов, $n_{il}^{(k)}$ - количество раз, которое аннтотатор поставил метку $l$ примеру $i$, а $T_{ij}, j = 1, \\ldots, J$ - индикторная **латентная переменная**, $T_{iq}=1, T_{iq}=0, j \\neq q$. Тогда логарифм правдоподобия:\n",
    "\n",
    "$$\\large L \\sim \\prod\\limits_{j=1}^{J} \\left\\{p_j \\cdot \\prod\\limits_{k=1}^{K}\\prod\\limits_{l=1}^J \\left(\\pi_{jl}^{(k)}\\right)^{n_{il}^{(k)}}\\right\\}^{T_{ij}}$$\n",
    "\n",
    "**Факт**: аналитически было найдено, что выражение для матрицы ошибок, максимизирующее функцию правдоподбия, имеет следующий вид:\n",
    "$$\\large \\hat{\\pi}_{jl}^{(k)} = \\frac{\\sum\\limits_{i} T_{ij}n_{il}^{(k)}}{\\sum\\limits_i \\sum\\limits_j T_{ij} n_{il}^{(k)}}$$"
   ]
  },
  {
   "cell_type": "markdown",
   "metadata": {
    "slideshow": {
     "slide_type": "slide"
    }
   },
   "source": [
    "## IV.I [Dawid Scene: EM]()\n",
    "\n",
    "1. Давайте зададим некоторые начальные значения латентных переменных $T_{ij}$, это можно сделать либо равномерно распределенным вектором из $0$ или $1$, либо по формуле:\n",
    "\n",
    "$$\\large T_{ij}^{(0)} = \\frac{\\sum\\limits_k n_{il}^{(k)}}{\\sum\\limits_k\\sum\\limits_l n_{il}^{(k)}}$$\n",
    "\n",
    "2. Высчитываем параметры матрицы ошибок `IEE` и распределение классов $p_j$ в предположении о распределении латентных переменных на предыдущем шаге `EM`-алгоритма:\n",
    "\n",
    "$$\\large \\hat{\\pi}_{jl}^{(k)} = \\frac{\\sum\\limits_{i} T_{ij}n_{il}^{(k)}}{\\sum\\limits_i \\sum\\limits_j T_{ij} n_{il}^{(k)}}$$\n",
    "\n",
    "$$\\large p_j = \\frac{\\sum\\limits_{i} T_{ij}}{I}$$"
   ]
  },
  {
   "cell_type": "markdown",
   "metadata": {
    "slideshow": {
     "slide_type": "slide"
    }
   },
   "source": [
    "### IV.I [Dawid Scene: EM]()\n",
    "\n",
    "3. Высчитываем математические ожидание выборки с высчитанными на шаге $2$ параметрами `IIE` и `p` и получаем новое распределение латентных переменных:\n",
    "\n",
    "$$p(T_{ij} = 1  | \\text{data}) = \\frac{\\prod\\limits_{k=1}^K \\prod\\limits_{l=1}^J \\left(\\pi_{ql}^{(k)}\\right)^{n_{il}^{(k)}} \\cdot p_j}{\\sum\\limits_{q=1}^J\\prod\\limits_{k=1}^K \\prod\\limits_{l=1}^J \\left(\\pi_{ql}^{(k)}\\right)^{n_{il}^{(k)}} \\cdot p_q}$$\n",
    "\n",
    "4. Повторяем шаги $2-3$ до сходимости.\n",
    "\n",
    "Итого получаем:\n",
    "\n",
    "- вероятности $T_{ij}$ принадлежности каждого сайта определенному классу\n",
    "- `worker_reliability` - надежность работников (то, что мы хотели)\n",
    "    - сумма диагональных элементов / количество классов\n",
    "    - взвешенный `worker_reliability` - домножаем на $p_j$ - распределение классов    \n",
    "\n",
    "Недостатки:\n",
    "\n",
    "- не обязательно сходится к минимуму, предположение о независимости не всегда оправдано"
   ]
  },
  {
   "cell_type": "markdown",
   "metadata": {
    "slideshow": {
     "slide_type": "slide"
    }
   },
   "source": [
    "## Test Dawid Scene: Toloka Aggregation 2\n",
    "\n",
    "Можно полученные веса `worker_reliability` использовать в различных взвешенных подходах, рассмотренных ранее.\n",
    "\n",
    "Улучшения: [Fast Dawid Scene](https://arxiv.org/abs/1803.02781)"
   ]
  },
  {
   "cell_type": "code",
   "execution_count": 28,
   "metadata": {
    "scrolled": true,
    "slideshow": {
     "slide_type": "fragment"
    }
   },
   "outputs": [
    {
     "name": "stdout",
     "output_type": "stream",
     "text": [
      "---------------START ITERATION #0-----------------\n",
      "start M step\n",
      "done M step\n",
      "start E step\n",
      "done E step\n",
      "---------------END ITERATION #0-----------------\n",
      "---------------START ITERATION #1-----------------\n",
      "start M step\n",
      "done M step\n",
      "start E step\n",
      "done E step\n",
      "---------------END ITERATION #1-----------------\n",
      "---------------START ITERATION #2-----------------\n",
      "start M step\n",
      "done M step\n",
      "start E step\n",
      "done E step\n",
      "---------------END ITERATION #2-----------------\n",
      "---------------START ITERATION #3-----------------\n",
      "start M step\n",
      "done M step\n",
      "start E step\n",
      "done E step\n",
      "---------------END ITERATION #3-----------------\n",
      "---------------START ITERATION #4-----------------\n",
      "start M step\n",
      "done M step\n",
      "start E step\n",
      "done E step\n",
      "---------------END ITERATION #4-----------------\n",
      "---------------START ITERATION #5-----------------\n",
      "start M step\n",
      "done M step\n",
      "start E step\n",
      "done E step\n",
      "---------------END ITERATION #5-----------------\n",
      "---------------START ITERATION #6-----------------\n",
      "start M step\n",
      "done M step\n",
      "start E step\n",
      "done E step\n",
      "---------------END ITERATION #6-----------------\n",
      "---------------START ITERATION #7-----------------\n",
      "start M step\n",
      "done M step\n",
      "start E step\n",
      "done E step\n",
      "---------------END ITERATION #7-----------------\n",
      "---------------START ITERATION #8-----------------\n",
      "start M step\n",
      "done M step\n",
      "start E step\n",
      "done E step\n",
      "---------------END ITERATION #8-----------------\n",
      "---------------START ITERATION #9-----------------\n",
      "start M step\n",
      "done M step\n",
      "start E step\n",
      "done E step\n",
      "---------------END ITERATION #9-----------------\n",
      "EM Done\n"
     ]
    }
   ],
   "source": [
    "DS_2, worker_reliability_ds = toloka_2.DS(max_iter=10, trace=True)"
   ]
  },
  {
   "cell_type": "code",
   "execution_count": 29,
   "metadata": {
    "slideshow": {
     "slide_type": "fragment"
    }
   },
   "outputs": [
    {
     "name": "stdout",
     "output_type": "stream",
     "text": [
      "2 classes: Done WAWR\n"
     ]
    }
   ],
   "source": [
    "WAWR, wr_ds = toloka_2.WAWR(worker_reliability_ds, \n",
    "                         bayes_likelyhood=False, \n",
    "                         name=' DS_Weights')"
   ]
  },
  {
   "cell_type": "markdown",
   "metadata": {
    "slideshow": {
     "slide_type": "slide"
    }
   },
   "source": [
    "## Test Dawid Scene: Toloka Aggregation 2\n",
    "\n",
    "Рассмотрим взвешенное аггрегирование с весами, данными работникам в результате работы алгоритма `DS`. Так же применим улучшающий `Bayes Wote`."
   ]
  },
  {
   "cell_type": "code",
   "execution_count": 30,
   "metadata": {
    "slideshow": {
     "slide_type": "fragment"
    }
   },
   "outputs": [
    {
     "name": "stdout",
     "output_type": "stream",
     "text": [
      "Iteration 40000\n",
      "Iteration 80000\n",
      "2 classes: Done WAWA + Bayes DS_Weights_Bayes\n"
     ]
    }
   ],
   "source": [
    "WAWR_Bayes, wr_ds_bayes = toloka_2.WAWR(worker_reliability_ds, \n",
    "                         bayes_likelyhood=True, \n",
    "                         name=' DS_Weights_Bayes')"
   ]
  },
  {
   "cell_type": "code",
   "execution_count": 31,
   "metadata": {
    "slideshow": {
     "slide_type": "fragment"
    }
   },
   "outputs": [
    {
     "data": {
      "text/html": [
       "<div>\n",
       "<style scoped>\n",
       "    .dataframe tbody tr th:only-of-type {\n",
       "        vertical-align: middle;\n",
       "    }\n",
       "\n",
       "    .dataframe tbody tr th {\n",
       "        vertical-align: top;\n",
       "    }\n",
       "\n",
       "    .dataframe thead th {\n",
       "        text-align: right;\n",
       "    }\n",
       "</style>\n",
       "<table border=\"1\" class=\"dataframe\">\n",
       "  <thead>\n",
       "    <tr style=\"text-align: right;\">\n",
       "      <th></th>\n",
       "      <th>MV</th>\n",
       "      <th>average</th>\n",
       "      <th>pred_UC(min)</th>\n",
       "      <th>pred_AM(max)</th>\n",
       "      <th>MWA</th>\n",
       "      <th>WAWA(W)</th>\n",
       "      <th>WAWA + Bayes(W)</th>\n",
       "      <th>WAWA(IDW)</th>\n",
       "      <th>WAWA(DWS)</th>\n",
       "      <th>WAWA + Bayes(IDW)</th>\n",
       "      <th>DawidScene</th>\n",
       "      <th>WAWR</th>\n",
       "      <th>WAWA + Bayes DS_Weights_Bayes</th>\n",
       "    </tr>\n",
       "  </thead>\n",
       "  <tbody>\n",
       "    <tr>\n",
       "      <th>Time (s)</th>\n",
       "      <td>7.664925</td>\n",
       "      <td>0.238843</td>\n",
       "      <td>0.628199</td>\n",
       "      <td>0.323794</td>\n",
       "      <td>8.817951</td>\n",
       "      <td>9.531563</td>\n",
       "      <td>320.653467</td>\n",
       "      <td>48.391266</td>\n",
       "      <td>48.219386</td>\n",
       "      <td>397.280352</td>\n",
       "      <td>345.720450</td>\n",
       "      <td>9.090810</td>\n",
       "      <td>302.585573</td>\n",
       "    </tr>\n",
       "    <tr>\n",
       "      <th>Golden Accuracy (%)</th>\n",
       "      <td>77.636670</td>\n",
       "      <td>76.763568</td>\n",
       "      <td>74.551047</td>\n",
       "      <td>34.527235</td>\n",
       "      <td>80.166683</td>\n",
       "      <td>80.176605</td>\n",
       "      <td>82.488342</td>\n",
       "      <td>82.458577</td>\n",
       "      <td>82.528029</td>\n",
       "      <td>83.143169</td>\n",
       "      <td>81.069551</td>\n",
       "      <td>78.073222</td>\n",
       "      <td>80.960413</td>\n",
       "    </tr>\n",
       "  </tbody>\n",
       "</table>\n",
       "</div>"
      ],
      "text/plain": [
       "                            MV    average  pred_UC(min)  pred_AM(max)  \\\n",
       "Time (s)              7.664925   0.238843      0.628199      0.323794   \n",
       "Golden Accuracy (%)  77.636670  76.763568     74.551047     34.527235   \n",
       "\n",
       "                           MWA    WAWA(W)  WAWA + Bayes(W)  WAWA(IDW)  \\\n",
       "Time (s)              8.817951   9.531563       320.653467  48.391266   \n",
       "Golden Accuracy (%)  80.166683  80.176605        82.488342  82.458577   \n",
       "\n",
       "                     WAWA(DWS)  WAWA + Bayes(IDW)  DawidScene       WAWR  \\\n",
       "Time (s)             48.219386         397.280352  345.720450   9.090810   \n",
       "Golden Accuracy (%)  82.528029          83.143169   81.069551  78.073222   \n",
       "\n",
       "                     WAWA + Bayes DS_Weights_Bayes  \n",
       "Time (s)                                302.585573  \n",
       "Golden Accuracy (%)                      80.960413  "
      ]
     },
     "execution_count": 31,
     "metadata": {},
     "output_type": "execute_result"
    }
   ],
   "source": [
    "pd.DataFrame(toloka_2.result_dict)"
   ]
  },
  {
   "cell_type": "markdown",
   "metadata": {
    "slideshow": {
     "slide_type": "slide"
    }
   },
   "source": [
    "## Test Dawid Scene: Toloka Aggregation 5"
   ]
  },
  {
   "cell_type": "code",
   "execution_count": 32,
   "metadata": {
    "slideshow": {
     "slide_type": "fragment"
    }
   },
   "outputs": [
    {
     "name": "stdout",
     "output_type": "stream",
     "text": [
      "---------------START ITERATION #0-----------------\n",
      "start M step\n",
      "done M step\n",
      "start E step\n",
      "done E step\n",
      "---------------END ITERATION #0-----------------\n",
      "---------------START ITERATION #1-----------------\n",
      "start M step\n",
      "done M step\n",
      "start E step\n",
      "done E step\n",
      "---------------END ITERATION #1-----------------\n",
      "---------------START ITERATION #2-----------------\n",
      "start M step\n",
      "done M step\n",
      "start E step\n",
      "done E step\n",
      "---------------END ITERATION #2-----------------\n",
      "---------------START ITERATION #3-----------------\n",
      "start M step\n",
      "done M step\n",
      "start E step\n",
      "done E step\n",
      "---------------END ITERATION #3-----------------\n",
      "---------------START ITERATION #4-----------------\n",
      "start M step\n",
      "done M step\n",
      "start E step\n",
      "done E step\n",
      "---------------END ITERATION #4-----------------\n",
      "EM Done\n",
      "5 classes: Done DS\n"
     ]
    }
   ],
   "source": [
    "DS_5, worker_reliability_ds_5 = toloka_5.DS(max_iter=5, trace=True)"
   ]
  },
  {
   "cell_type": "code",
   "execution_count": 33,
   "metadata": {
    "slideshow": {
     "slide_type": "fragment"
    }
   },
   "outputs": [
    {
     "name": "stdout",
     "output_type": "stream",
     "text": [
      "5 classes: Done WAWR\n"
     ]
    }
   ],
   "source": [
    "WAWR_5, wr_ds_5 = toloka_5.WAWR(worker_reliability_ds_5, \n",
    "                         bayes_likelyhood=False, \n",
    "                         name=' DS_Weights_Bayes')"
   ]
  },
  {
   "cell_type": "code",
   "execution_count": 34,
   "metadata": {
    "slideshow": {
     "slide_type": "fragment"
    }
   },
   "outputs": [
    {
     "data": {
      "text/html": [
       "<div>\n",
       "<style scoped>\n",
       "    .dataframe tbody tr th:only-of-type {\n",
       "        vertical-align: middle;\n",
       "    }\n",
       "\n",
       "    .dataframe tbody tr th {\n",
       "        vertical-align: top;\n",
       "    }\n",
       "\n",
       "    .dataframe thead th {\n",
       "        text-align: right;\n",
       "    }\n",
       "</style>\n",
       "<table border=\"1\" class=\"dataframe\">\n",
       "  <thead>\n",
       "    <tr style=\"text-align: right;\">\n",
       "      <th></th>\n",
       "      <th>MV</th>\n",
       "      <th>pred_average</th>\n",
       "      <th>MWA</th>\n",
       "      <th>WAWA</th>\n",
       "      <th>DawidScene</th>\n",
       "      <th>WAWR</th>\n",
       "    </tr>\n",
       "  </thead>\n",
       "  <tbody>\n",
       "    <tr>\n",
       "      <th>Time (s)</th>\n",
       "      <td>9.078467</td>\n",
       "      <td>2.558555</td>\n",
       "      <td>11.487422</td>\n",
       "      <td>10.544983</td>\n",
       "      <td>442.434574</td>\n",
       "      <td>9.459579</td>\n",
       "    </tr>\n",
       "    <tr>\n",
       "      <th>Golden Accuracy (%)</th>\n",
       "      <td>90.135854</td>\n",
       "      <td>84.087419</td>\n",
       "      <td>90.281187</td>\n",
       "      <td>90.431187</td>\n",
       "      <td>90.785588</td>\n",
       "      <td>90.295334</td>\n",
       "    </tr>\n",
       "  </tbody>\n",
       "</table>\n",
       "</div>"
      ],
      "text/plain": [
       "                            MV  pred_average        MWA       WAWA  \\\n",
       "Time (s)              9.078467      2.558555  11.487422  10.544983   \n",
       "Golden Accuracy (%)  90.135854     84.087419  90.281187  90.431187   \n",
       "\n",
       "                     DawidScene       WAWR  \n",
       "Time (s)             442.434574   9.459579  \n",
       "Golden Accuracy (%)   90.785588  90.295334  "
      ]
     },
     "execution_count": 34,
     "metadata": {},
     "output_type": "execute_result"
    }
   ],
   "source": [
    "pd.DataFrame(toloka_5.result_dict)"
   ]
  },
  {
   "cell_type": "markdown",
   "metadata": {
    "slideshow": {
     "slide_type": "slide"
    }
   },
   "source": [
    "## IV.II [GLAD - Generative Model of Labels, Abilities and Difficulties](http://papers.nips.cc/paper/3644-whose-vote-should-count-more-optimal-integration-of-labels-from-labelers-of-unknown-expertise.pdf)\n",
    "\n",
    "Допустим, у нас есть $n$ сайтов, каждый из которых является релевантным или нет (`1` или `0`). Мы бы хотели предсказывать `Z_j` - **правильную метку** для каждого сайта `j` при наличии голосов от `m` толокеров.\n",
    "\n",
    "Предположим, что $Z_j$ зависит от нескольких факторов, таких как:\n",
    "\n",
    "1. неодназначность изображения (1)\n",
    "\n",
    "2. опыт (надежность) работника (2)\n",
    "\n",
    "3. истинных значений `true label`"
   ]
  },
  {
   "cell_type": "markdown",
   "metadata": {
    "slideshow": {
     "slide_type": "slide"
    }
   },
   "source": [
    "## IV.GLAD - Generative Model of Labels, Abilities and Difficulties\n",
    "\n",
    "- **Сложность сайта** `j` будем моделировать с помощью параметра\n",
    "\n",
    "$$\\large \\frac{1}{\\beta_j} \\in [0, \\infty)$$\n",
    "\n",
    "$\\frac{1}{\\beta_j}  = \\infty$ означает, что непонятно, каким является сайт - релевантным или нерелевантным, и, следовательно, даже самые опытные толокеры имеют `50%` вероятность ошибиться / поставить правильную метку.\n",
    "\n",
    "$\\frac{1}{\\beta_j}  = 0$ означает, что даже самый неосевдомленный толокер способен правильно оценить данный сайт\n",
    "\n",
    "- **Надежность работника** моделируется параметром $\\alpha_i \\in (-\\infty, +\\infty)$. $\\alpha_i = \\infty$ означает, что работник всегда отвечает правильные ответы, а $\\alpha_i = -\\infty$ означает, что толокер всегда маркирует изображения неправильно (то есть он всегда может различать два класса, но всегда неправильно). В таком случае толокер называется `adversarial` - противоборствующий. Наконец, $\\alpha_i = 0$ означает, что толокер не может различать два класса - его метки не содержат информации об истинной метке изображения $Z_j$. Кстати, мы не обязательно требуем, чтобы толокеры были людьми, это могут быть и классификаторы (`Logistic Regression e.t.c`)"
   ]
  },
  {
   "cell_type": "markdown",
   "metadata": {
    "slideshow": {
     "slide_type": "slide"
    }
   },
   "source": [
    "## IV.GLAD - Generative Model of Labels, Abilities and Difficulties\n",
    "\n",
    "\n",
    "Теперь идея следующая: `метки, которые выданы толокером` $i$ для `сайта ` $j$, которые мы будем называть `given labels`, обозначаются как $L_{ij}$ и будут генерироваться следующим образом:\n",
    "\n",
    "$$\\LARGE \\mathbb{P}\\left( L_{ij} = {Z_j} \\vert \\alpha_i, \\beta_j \\right) = \\frac{1}{1 + e^{-\\alpha_i \\cdot \\beta_j}}$$\n",
    "\n",
    "Таким образом в данной модели логарифм отношения вероятности принадлежности классам равна билинейной функции сложности картинки и надежности толокера:\n",
    "\n",
    "$$\\LARGE \\ln \\frac{\\mathbb{P}\\left( L_{ij} = {Z_j} \\right)}{1-\\mathbb{P}\\left( L_{ij} = {Z_j} \\right)} = \\alpha_i \\beta_j$$\n",
    "\n",
    "Итого, как решать задачу нахождения `правильных меток`. Неизвестными в данной модели являются `правильные метки` $Z_j$, надежность работников $\\alpha_i$ и сложность сайтов $\\frac{1}{\\beta_j}$.\n",
    "\n",
    "Наша цель - эффективно искать наиболее вероятные значения ненаблюдаемых переменных $Z, \\alpha, \\beta$ для данных. Будем использовать `Expectation Maximization` алгоритм:"
   ]
  },
  {
   "cell_type": "markdown",
   "metadata": {
    "slideshow": {
     "slide_type": "slide"
    }
   },
   "source": [
    "## IV.GLAD - Generative Model of Labels, Abilities and Difficulties: EM\n",
    "\n",
    "## `E-step`\n",
    "\n",
    "Давайте обозначим все значения для сайта $j$ за $\\large \\textbf{l}_j = \\{l_{ij'} = j' \\vert j \\}$. Кстати, каждый толокер не обязательно должен пометить все картинки, поэтому в данной формуле $i$ обозначает только те индексы толокеров, которые пометили данную картинку.\n",
    "\n",
    "Нам необходоим на данном шаге посчитать вероятности меток $z_j \\in \\{0, 1\\}$ для значения $\\alpha, \\beta$ с последнего шага `M`-алгоритма и переменных $l_j$:\n",
    "\n",
    "$$\\LARGE p(z_j \\vert l, \\alpha, \\beta) = p(z_j) \\cdot \\prod\\limits_{i=1} p(l_{ij} \\vert z_j, \\alpha_i, \\beta_j)$$\n",
    "\n",
    "## `M-step`\n",
    "\n",
    "Мы максимизируем $Q$:\n",
    "\n",
    "$$\\large Q(\\alpha, \\beta) = E(\\ln p(l, z \\vert \\alpha, \\beta)) = \\sum\\limits_j E[\\ln p(z_j)] + \\sum\\limits_{ij}E(\\ln p(l_{ij} \\vert z_j, \\alpha_i, \\beta_j)$$\n",
    "\n",
    "Сожаление: приходится максимизировать по $\\alpha$ и $\\beta$, аналитического максимума нет."
   ]
  },
  {
   "cell_type": "markdown",
   "metadata": {
    "slideshow": {
     "slide_type": "slide"
    }
   },
   "source": [
    "## Test Realisation: GLAD\n",
    "\n",
    "Улучшение: [модель Андрея Мищенко]() - учитывается вероятность того, что пользователь не посмотрит на задание."
   ]
  },
  {
   "cell_type": "code",
   "execution_count": 35,
   "metadata": {
    "slideshow": {
     "slide_type": "fragment"
    }
   },
   "outputs": [
    {
     "name": "stdout",
     "output_type": "stream",
     "text": [
      "Molding data\n",
      "Finished to Mold data\n",
      "start M step\n",
      "calculate\n",
      "done M step\n",
      "start E step\n",
      "done M step\n",
      "start M step\n",
      "calculate\n",
      "done M step\n",
      "start E step\n",
      "done M step\n",
      "start M step\n",
      "calculate\n",
      "done M step\n",
      "start E step\n",
      "done M step\n",
      "2 classes: Done GLAD\n"
     ]
    }
   ],
   "source": [
    "GLAD_2 = toloka_2.GLAD(max_iter=3)"
   ]
  },
  {
   "cell_type": "code",
   "execution_count": 36,
   "metadata": {
    "slideshow": {
     "slide_type": "fragment"
    }
   },
   "outputs": [
    {
     "data": {
      "text/html": [
       "<div>\n",
       "<style scoped>\n",
       "    .dataframe tbody tr th:only-of-type {\n",
       "        vertical-align: middle;\n",
       "    }\n",
       "\n",
       "    .dataframe tbody tr th {\n",
       "        vertical-align: top;\n",
       "    }\n",
       "\n",
       "    .dataframe thead th {\n",
       "        text-align: right;\n",
       "    }\n",
       "</style>\n",
       "<table border=\"1\" class=\"dataframe\">\n",
       "  <thead>\n",
       "    <tr style=\"text-align: right;\">\n",
       "      <th></th>\n",
       "      <th>MV</th>\n",
       "      <th>average</th>\n",
       "      <th>pred_UC(min)</th>\n",
       "      <th>pred_AM(max)</th>\n",
       "      <th>MWA</th>\n",
       "      <th>WAWA(W)</th>\n",
       "      <th>WAWA + Bayes(W)</th>\n",
       "      <th>WAWA(IDW)</th>\n",
       "      <th>WAWA(DWS)</th>\n",
       "      <th>WAWA + Bayes(IDW)</th>\n",
       "      <th>DawidScene</th>\n",
       "      <th>WAWR</th>\n",
       "      <th>WAWA + Bayes DS_Weights_Bayes</th>\n",
       "      <th>GLAD</th>\n",
       "    </tr>\n",
       "  </thead>\n",
       "  <tbody>\n",
       "    <tr>\n",
       "      <th>Time (s)</th>\n",
       "      <td>7.664925</td>\n",
       "      <td>0.238843</td>\n",
       "      <td>0.628199</td>\n",
       "      <td>0.323794</td>\n",
       "      <td>8.817951</td>\n",
       "      <td>9.531563</td>\n",
       "      <td>320.653467</td>\n",
       "      <td>48.391266</td>\n",
       "      <td>48.219386</td>\n",
       "      <td>397.280352</td>\n",
       "      <td>345.720450</td>\n",
       "      <td>9.090810</td>\n",
       "      <td>302.585573</td>\n",
       "      <td>380.537457</td>\n",
       "    </tr>\n",
       "    <tr>\n",
       "      <th>Golden Accuracy (%)</th>\n",
       "      <td>77.636670</td>\n",
       "      <td>76.763568</td>\n",
       "      <td>74.551047</td>\n",
       "      <td>34.527235</td>\n",
       "      <td>80.166683</td>\n",
       "      <td>80.176605</td>\n",
       "      <td>82.488342</td>\n",
       "      <td>82.458577</td>\n",
       "      <td>82.528029</td>\n",
       "      <td>83.143169</td>\n",
       "      <td>81.069551</td>\n",
       "      <td>78.073222</td>\n",
       "      <td>80.960413</td>\n",
       "      <td>78.678440</td>\n",
       "    </tr>\n",
       "  </tbody>\n",
       "</table>\n",
       "</div>"
      ],
      "text/plain": [
       "                            MV    average  pred_UC(min)  pred_AM(max)  \\\n",
       "Time (s)              7.664925   0.238843      0.628199      0.323794   \n",
       "Golden Accuracy (%)  77.636670  76.763568     74.551047     34.527235   \n",
       "\n",
       "                           MWA    WAWA(W)  WAWA + Bayes(W)  WAWA(IDW)  \\\n",
       "Time (s)              8.817951   9.531563       320.653467  48.391266   \n",
       "Golden Accuracy (%)  80.166683  80.176605        82.488342  82.458577   \n",
       "\n",
       "                     WAWA(DWS)  WAWA + Bayes(IDW)  DawidScene       WAWR  \\\n",
       "Time (s)             48.219386         397.280352  345.720450   9.090810   \n",
       "Golden Accuracy (%)  82.528029          83.143169   81.069551  78.073222   \n",
       "\n",
       "                     WAWA + Bayes DS_Weights_Bayes        GLAD  \n",
       "Time (s)                                302.585573  380.537457  \n",
       "Golden Accuracy (%)                      80.960413   78.678440  "
      ]
     },
     "execution_count": 36,
     "metadata": {},
     "output_type": "execute_result"
    }
   ],
   "source": [
    "pd.DataFrame(toloka_2.result_dict)"
   ]
  },
  {
   "cell_type": "markdown",
   "metadata": {
    "slideshow": {
     "slide_type": "slide"
    }
   },
   "source": [
    "## V. [Max Eigenvalue](http://www.arpitaghosh.com/papers/ecfinal-ratings.pdf)*\n",
    "\n",
    "**Идея**: рассмотрим матрицу оценок $L$ в задаче бинарной классификации с классами ${-1,1}$. Тогда собственный вектор, соответствующий максимальному собственному значению матрицы будет являться вектором предсказаний меток.\n",
    "\n",
    "Как?: можно посмотреть статью, я не до конца понял мотивацию."
   ]
  },
  {
   "cell_type": "markdown",
   "metadata": {
    "slideshow": {
     "slide_type": "slide"
    }
   },
   "source": [
    "## Final Result: Toloka Aggregation 2"
   ]
  },
  {
   "cell_type": "code",
   "execution_count": 37,
   "metadata": {
    "slideshow": {
     "slide_type": "skip"
    }
   },
   "outputs": [],
   "source": [
    "result_toloka_2 = pd.DataFrame(toloka_2.result_dict).T\n",
    "result_toloka_5 = pd.DataFrame(toloka_5.result_dict).T"
   ]
  },
  {
   "cell_type": "code",
   "execution_count": 38,
   "metadata": {
    "slideshow": {
     "slide_type": "fragment"
    }
   },
   "outputs": [
    {
     "data": {
      "text/html": [
       "<div>\n",
       "<style scoped>\n",
       "    .dataframe tbody tr th:only-of-type {\n",
       "        vertical-align: middle;\n",
       "    }\n",
       "\n",
       "    .dataframe tbody tr th {\n",
       "        vertical-align: top;\n",
       "    }\n",
       "\n",
       "    .dataframe thead th {\n",
       "        text-align: right;\n",
       "    }\n",
       "</style>\n",
       "<table border=\"1\" class=\"dataframe\">\n",
       "  <thead>\n",
       "    <tr style=\"text-align: right;\">\n",
       "      <th></th>\n",
       "      <th>Golden Accuracy (%)</th>\n",
       "    </tr>\n",
       "  </thead>\n",
       "  <tbody>\n",
       "    <tr>\n",
       "      <th>WAWA + Bayes(IDW)</th>\n",
       "      <td>83.143169</td>\n",
       "    </tr>\n",
       "    <tr>\n",
       "      <th>WAWA(DWS)</th>\n",
       "      <td>82.528029</td>\n",
       "    </tr>\n",
       "    <tr>\n",
       "      <th>WAWA + Bayes(W)</th>\n",
       "      <td>82.488342</td>\n",
       "    </tr>\n",
       "    <tr>\n",
       "      <th>WAWA(IDW)</th>\n",
       "      <td>82.458577</td>\n",
       "    </tr>\n",
       "    <tr>\n",
       "      <th>DawidScene</th>\n",
       "      <td>81.069551</td>\n",
       "    </tr>\n",
       "    <tr>\n",
       "      <th>WAWA + Bayes DS_Weights_Bayes</th>\n",
       "      <td>80.960413</td>\n",
       "    </tr>\n",
       "    <tr>\n",
       "      <th>WAWA(W)</th>\n",
       "      <td>80.176605</td>\n",
       "    </tr>\n",
       "    <tr>\n",
       "      <th>MWA</th>\n",
       "      <td>80.166683</td>\n",
       "    </tr>\n",
       "    <tr>\n",
       "      <th>GLAD</th>\n",
       "      <td>78.678440</td>\n",
       "    </tr>\n",
       "    <tr>\n",
       "      <th>WAWR</th>\n",
       "      <td>78.073222</td>\n",
       "    </tr>\n",
       "    <tr>\n",
       "      <th>MV</th>\n",
       "      <td>77.636670</td>\n",
       "    </tr>\n",
       "    <tr>\n",
       "      <th>average</th>\n",
       "      <td>76.763568</td>\n",
       "    </tr>\n",
       "    <tr>\n",
       "      <th>pred_UC(min)</th>\n",
       "      <td>74.551047</td>\n",
       "    </tr>\n",
       "    <tr>\n",
       "      <th>pred_AM(max)</th>\n",
       "      <td>34.527235</td>\n",
       "    </tr>\n",
       "  </tbody>\n",
       "</table>\n",
       "</div>"
      ],
      "text/plain": [
       "                               Golden Accuracy (%)\n",
       "WAWA + Bayes(IDW)                        83.143169\n",
       "WAWA(DWS)                                82.528029\n",
       "WAWA + Bayes(W)                          82.488342\n",
       "WAWA(IDW)                                82.458577\n",
       "DawidScene                               81.069551\n",
       "WAWA + Bayes DS_Weights_Bayes            80.960413\n",
       "WAWA(W)                                  80.176605\n",
       "MWA                                      80.166683\n",
       "GLAD                                     78.678440\n",
       "WAWR                                     78.073222\n",
       "MV                                       77.636670\n",
       "average                                  76.763568\n",
       "pred_UC(min)                             74.551047\n",
       "pred_AM(max)                             34.527235"
      ]
     },
     "execution_count": 38,
     "metadata": {},
     "output_type": "execute_result"
    }
   ],
   "source": [
    "(\n",
    "    result_toloka_2['Golden Accuracy (%)']\n",
    "    .sort_values(ascending=False)\n",
    "    .to_frame()\n",
    ")"
   ]
  },
  {
   "cell_type": "markdown",
   "metadata": {
    "slideshow": {
     "slide_type": "slide"
    }
   },
   "source": [
    "## Final Result: Toloka Aggregation 2"
   ]
  },
  {
   "cell_type": "code",
   "execution_count": 39,
   "metadata": {
    "slideshow": {
     "slide_type": "fragment"
    }
   },
   "outputs": [
    {
     "data": {
      "image/png": "[encoded data removed]",
      "text/plain": [
       "<Figure size 1440x720 with 1 Axes>"
      ]
     },
     "metadata": {
      "needs_background": "light"
     },
     "output_type": "display_data"
    }
   ],
   "source": [
    "fig, ax = plt.subplots(1, 1, figsize=(20, 10))\n",
    "result_toloka_2['Time (s)'].plot.barh(color='darkblue', ax=ax)\n",
    "ax.set_title('Tuning Time: Toloka Aggregation 2')\n",
    "plt.show()"
   ]
  },
  {
   "cell_type": "markdown",
   "metadata": {
    "slideshow": {
     "slide_type": "slide"
    }
   },
   "source": [
    "## Final Result: Toloka Aggregation 5"
   ]
  },
  {
   "cell_type": "code",
   "execution_count": 40,
   "metadata": {
    "slideshow": {
     "slide_type": "fragment"
    }
   },
   "outputs": [
    {
     "data": {
      "text/html": [
       "<div>\n",
       "<style scoped>\n",
       "    .dataframe tbody tr th:only-of-type {\n",
       "        vertical-align: middle;\n",
       "    }\n",
       "\n",
       "    .dataframe tbody tr th {\n",
       "        vertical-align: top;\n",
       "    }\n",
       "\n",
       "    .dataframe thead th {\n",
       "        text-align: right;\n",
       "    }\n",
       "</style>\n",
       "<table border=\"1\" class=\"dataframe\">\n",
       "  <thead>\n",
       "    <tr style=\"text-align: right;\">\n",
       "      <th></th>\n",
       "      <th>Golden Accuracy (%)</th>\n",
       "    </tr>\n",
       "  </thead>\n",
       "  <tbody>\n",
       "    <tr>\n",
       "      <th>DawidScene</th>\n",
       "      <td>90.785588</td>\n",
       "    </tr>\n",
       "    <tr>\n",
       "      <th>WAWA</th>\n",
       "      <td>90.431187</td>\n",
       "    </tr>\n",
       "    <tr>\n",
       "      <th>WAWR</th>\n",
       "      <td>90.295334</td>\n",
       "    </tr>\n",
       "    <tr>\n",
       "      <th>MWA</th>\n",
       "      <td>90.281187</td>\n",
       "    </tr>\n",
       "    <tr>\n",
       "      <th>MV</th>\n",
       "      <td>90.135854</td>\n",
       "    </tr>\n",
       "    <tr>\n",
       "      <th>pred_average</th>\n",
       "      <td>84.087419</td>\n",
       "    </tr>\n",
       "  </tbody>\n",
       "</table>\n",
       "</div>"
      ],
      "text/plain": [
       "              Golden Accuracy (%)\n",
       "DawidScene              90.785588\n",
       "WAWA                    90.431187\n",
       "WAWR                    90.295334\n",
       "MWA                     90.281187\n",
       "MV                      90.135854\n",
       "pred_average            84.087419"
      ]
     },
     "execution_count": 40,
     "metadata": {},
     "output_type": "execute_result"
    }
   ],
   "source": [
    "(\n",
    "    result_toloka_5['Golden Accuracy (%)']\n",
    "    .sort_values(ascending=False)\n",
    "    .to_frame()\n",
    ")"
   ]
  },
  {
   "cell_type": "markdown",
   "metadata": {
    "slideshow": {
     "slide_type": "slide"
    }
   },
   "source": [
    "## Final Result: Toloka Aggregation 5"
   ]
  },
  {
   "cell_type": "code",
   "execution_count": 41,
   "metadata": {
    "slideshow": {
     "slide_type": "fragment"
    }
   },
   "outputs": [
    {
     "data": {
      "image/png": "[encoded data removed]",
      "text/plain": [
       "<Figure size 1440x720 with 1 Axes>"
      ]
     },
     "metadata": {
      "needs_background": "light"
     },
     "output_type": "display_data"
    }
   ],
   "source": [
    "fig, ax = plt.subplots(1, 1, figsize=(20, 10))\n",
    "result_toloka_5['Time (s)'].plot.barh(color='darkblue', ax=ax)\n",
    "ax.set_title('Tuning Time: Toloka Aggregation 2')\n",
    "plt.show()"
   ]
  },
  {
   "cell_type": "markdown",
   "metadata": {
    "slideshow": {
     "slide_type": "slide"
    }
   },
   "source": [
    "## Save Results"
   ]
  },
  {
   "cell_type": "code",
   "execution_count": 42,
   "metadata": {
    "slideshow": {
     "slide_type": "fragment"
    }
   },
   "outputs": [],
   "source": [
    "toloka_2.predictions.astype(int).to_csv('predict/prediction_toloka_2.csv', index=False)\n",
    "toloka_5.predictions.astype(int).to_csv('predict/prediction_toloka_5.csv', index=False)"
   ]
  },
  {
   "cell_type": "markdown",
   "metadata": {
    "slideshow": {
     "slide_type": "slide"
    }
   },
   "source": [
    "## Спасибо за внимание!"
   ]
  }
 ],
 "metadata": {
  "celltoolbar": "Slideshow",
  "kernelspec": {
   "display_name": "Python 3",
   "language": "python",
   "name": "python3"
  },
  "language_info": {
   "codemirror_mode": {
    "name": "ipython",
    "version": 3
   },
   "file_extension": ".py",
   "mimetype": "text/x-python",
   "name": "python",
   "nbconvert_exporter": "python",
   "pygments_lexer": "ipython3",
   "version": "3.8.5"
  }
 },
 "nbformat": 4,
 "nbformat_minor": 4
}
